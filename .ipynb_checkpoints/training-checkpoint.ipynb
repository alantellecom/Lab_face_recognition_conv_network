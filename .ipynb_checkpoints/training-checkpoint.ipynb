{
 "cells": [
  {
   "cell_type": "code",
   "execution_count": null,
   "id": "seven-wrong",
   "metadata": {},
   "outputs": [],
   "source": [
    "import sys\n",
    "import tensorflow as tf\n",
    "from tensorflow.keras.preprocessing.image import ImageDataGenerator\n",
    "import numpy as np\n",
    "import matplotlib.pyplot as plt"
   ]
  },
  {
   "cell_type": "code",
   "execution_count": 25,
   "id": "faced-nation",
   "metadata": {},
   "outputs": [
    {
     "name": "stdout",
     "output_type": "stream",
     "text": [
      "Found 160 images belonging to 2 classes.\n",
      "Found 40 images belonging to 2 classes.\n"
     ]
    }
   ],
   "source": [
    "train_path = '.\\\\Images\\\\Train'\n",
    "test_path = '.\\\\Images\\\\Test'\n",
    "\n",
    "\n",
    "train_datagen = ImageDataGenerator(rescale = 1./255,\n",
    "                                   rotation_range=10,\n",
    "                                   zoom_range = 0.2,\n",
    "                                   horizontal_flip = True)\n",
    "\n",
    "test_datagen = ImageDataGenerator(rescale = 1./255)\n",
    "\n",
    "training_set = train_datagen.flow_from_directory(train_path,\n",
    "                                                 target_size = (32, 32),\n",
    "                                                 batch_size = 16,\n",
    "                                                 class_mode = 'binary')\n",
    "\n",
    "test_set = test_datagen.flow_from_directory(test_path,\n",
    "                                            target_size = (32, 32),\n",
    "                                            batch_size = 16,\n",
    "                                            class_mode = 'binary')\n"
   ]
  },
  {
   "cell_type": "code",
   "execution_count": 26,
   "id": "international-connectivity",
   "metadata": {},
   "outputs": [
    {
     "data": {
      "text/plain": [
       "{'Outros': 0, 'Tifani': 1}"
      ]
     },
     "execution_count": 28,
     "metadata": {},
     "output_type": "execute_result"
    }
   ],
   "source": [
    "training_set.class_indices"
   ]
  },
  {
   "cell_type": "code",
   "execution_count": 27,
   "id": "parallel-first",
   "metadata": {},
   "outputs": [],
   "source": [
    "model = tf.keras.models.Sequential()\n",
    "model.add(tf.keras.layers.Conv2D(32,(3,3), activation='relu', input_shape=(32,32,3)))\n",
    "model.add(tf.keras.layers.MaxPool2D((2,2)))\n",
    "model.add(tf.keras.layers.Conv2D(64,(3,3),activation='relu'))\n",
    "model.add(tf.keras.layers.MaxPool2D((2,2)))\n",
    "model.add(tf.keras.layers.Flatten())\n",
    "#model.add(tf.keras.Input(shape=(24*24*3,)))\n",
    "model.add(tf.keras.layers.Dense(units=64, activation='relu'))\n",
    "model.add(tf.keras.layers.Dropout(0.5))\n",
    "#model.add(tf.keras.layers.Dense(units=64, activation='relu'))\n",
    "#model.add(tf.keras.layers.Dropout(0.5))\n",
    "model.add(tf.keras.layers.Dense(units=1, activation='sigmoid'))\n",
    "\n",
    "model.compile(optimizer='adam', loss='binary_crossentropy', metrics=['acc'])"
   ]
  },
  {
   "cell_type": "code",
   "execution_count": 28,
   "id": "secondary-hanging",
   "metadata": {},
   "outputs": [
    {
     "name": "stdout",
     "output_type": "stream",
     "text": [
      "Epoch 1/5\n",
      "\n",
      " 1/10 [==>...........................] - ETA: 8s - loss: 0.6965 - acc: 0.5000\n",
      " 4/10 [===========>..................] - ETA: 1s - loss: 0.6564 - acc: 0.5938\n",
      " 7/10 [====================>.........] - ETA: 0s - loss: 0.6057 - acc: 0.7054\n",
      " 8/10 [=======================>......] - ETA: 0s - loss: 0.5760 - acc: 0.7422\n",
      " 9/10 [==========================>...] - ETA: 0s - loss: 0.5554 - acc: 0.7708\n",
      "10/10 [==============================] - 2s 192ms/step - loss: 0.5322 - acc: 0.7875 - val_loss: 0.2491 - val_acc: 1.0000\n",
      "Epoch 2/5\n",
      "\n",
      " 1/10 [==>...........................] - ETA: 0s - loss: 0.2831 - acc: 1.0000\n",
      " 4/10 [===========>..................] - ETA: 0s - loss: 0.2315 - acc: 0.9688\n",
      " 7/10 [====================>.........] - ETA: 0s - loss: 0.1795 - acc: 0.9821\n",
      " 9/10 [==========================>...] - ETA: 0s - loss: 0.1598 - acc: 0.9792\n",
      "10/10 [==============================] - 1s 54ms/step - loss: 0.1455 - acc: 0.9812 - val_loss: 0.0097 - val_acc: 1.0000\n",
      "Epoch 3/5\n",
      "\n",
      " 1/10 [==>...........................] - ETA: 0s - loss: 0.0242 - acc: 1.0000\n",
      " 4/10 [===========>..................] - ETA: 0s - loss: 0.0452 - acc: 0.9844\n",
      " 6/10 [=================>............] - ETA: 0s - loss: 0.0469 - acc: 0.9792\n",
      " 7/10 [====================>.........] - ETA: 0s - loss: 0.0429 - acc: 0.9821\n",
      " 8/10 [=======================>......] - ETA: 0s - loss: 0.0380 - acc: 0.9844\n",
      " 9/10 [==========================>...] - ETA: 0s - loss: 0.0340 - acc: 0.9861\n",
      "10/10 [==============================] - 1s 57ms/step - loss: 0.0353 - acc: 0.9875 - val_loss: 0.0012 - val_acc: 1.0000\n",
      "Epoch 4/5\n",
      "\n",
      " 1/10 [==>...........................] - ETA: 0s - loss: 0.0025 - acc: 1.0000\n",
      " 3/10 [========>.....................] - ETA: 0s - loss: 0.0053 - acc: 1.0000\n",
      " 4/10 [===========>..................] - ETA: 0s - loss: 0.0140 - acc: 1.0000\n",
      " 5/10 [==============>...............] - ETA: 0s - loss: 0.0122 - acc: 1.0000\n",
      " 6/10 [=================>............] - ETA: 0s - loss: 0.0131 - acc: 1.0000\n",
      " 7/10 [====================>.........] - ETA: 0s - loss: 0.0181 - acc: 1.0000\n",
      " 8/10 [=======================>......] - ETA: 0s - loss: 0.0160 - acc: 1.0000\n",
      " 9/10 [==========================>...] - ETA: 0s - loss: 0.0146 - acc: 1.0000\n",
      "10/10 [==============================] - 1s 75ms/step - loss: 0.0133 - acc: 1.0000 - val_loss: 0.0095 - val_acc: 1.0000\n",
      "Epoch 5/5\n",
      "\n",
      " 1/10 [==>...........................] - ETA: 0s - loss: 0.0036 - acc: 1.0000\n",
      " 4/10 [===========>..................] - ETA: 0s - loss: 0.0239 - acc: 0.9844\n",
      " 5/10 [==============>...............] - ETA: 0s - loss: 0.0192 - acc: 0.9875\n",
      " 6/10 [=================>............] - ETA: 0s - loss: 0.0162 - acc: 0.9896\n",
      " 7/10 [====================>.........] - ETA: 0s - loss: 0.0139 - acc: 0.9911\n",
      " 8/10 [=======================>......] - ETA: 0s - loss: 0.0122 - acc: 0.9922\n",
      " 9/10 [==========================>...] - ETA: 0s - loss: 0.0148 - acc: 0.9931\n",
      "10/10 [==============================] - 1s 73ms/step - loss: 0.0136 - acc: 0.9937 - val_loss: 1.2077e-04 - val_acc: 1.0000\n"
     ]
    }
   ],
   "source": [
    "history = model.fit_generator(training_set, epochs=5, validation_data=test_set )"
   ]
  },
  {
   "cell_type": "code",
   "execution_count": 29,
   "id": "eleven-slovakia",
   "metadata": {},
   "outputs": [],
   "source": [
    "model.save('facefeatures_new_model.h5') # salva arquivo com modelo"
   ]
  },
  {
   "cell_type": "code",
   "execution_count": null,
   "id": "twelve-debut",
   "metadata": {},
   "outputs": [],
   "source": []
  }
 ],
 "metadata": {
  "kernelspec": {
   "display_name": "Python 3.7 (XPython)",
   "language": "python",
   "name": "xpython"
  },
  "language_info": {
   "file_extension": ".py",
   "mimetype": "text/x-python",
   "name": "python",
   "version": "3.7.9"
  }
 },
 "nbformat": 4,
 "nbformat_minor": 5
}
