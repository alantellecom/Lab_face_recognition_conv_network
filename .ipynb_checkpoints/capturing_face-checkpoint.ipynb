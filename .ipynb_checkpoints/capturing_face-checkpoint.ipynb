{
 "cells": [
  {
   "cell_type": "code",
   "execution_count": 1,
   "metadata": {},
   "outputs": [
    {
     "name": "stdout",
     "output_type": "stream",
     "text": [
      "Requirement already satisfied: ffmpeg-python in c:\\users\\nuc\\miniconda3\\envs\\tensorflow\\lib\\site-packages (0.2.0)\n",
      "Requirement already satisfied: future in c:\\users\\nuc\\miniconda3\\envs\\tensorflow\\lib\\site-packages (from ffmpeg-python) (0.18.2)\n",
      "Note: you may need to restart the kernel to use updated packages.\n"
     ]
    }
   ],
   "source": [
    "pip install ffmpeg-python"
   ]
  },
  {
   "cell_type": "code",
   "execution_count": 2,
   "metadata": {},
   "outputs": [
    {
     "name": "stdout",
     "output_type": "stream",
     "text": [
      "Requirement already satisfied: opencv-python in c:\\users\\nuc\\miniconda3\\envs\\tensorflow\\lib\\site-packages (4.5.1.48)\n",
      "Requirement already satisfied: numpy>=1.14.5 in c:\\users\\nuc\\miniconda3\\envs\\tensorflow\\lib\\site-packages (from opencv-python) (1.19.1)\n",
      "Note: you may need to restart the kernel to use updated packages.\n"
     ]
    }
   ],
   "source": [
    "pip install opencv-python"
   ]
  },
  {
   "cell_type": "code",
   "execution_count": 3,
   "metadata": {},
   "outputs": [],
   "source": [
    "import cv2\n",
    "import numpy as np"
   ]
  },
  {
   "cell_type": "code",
   "execution_count": 6,
   "metadata": {},
   "outputs": [
    {
     "name": "stderr",
     "output_type": "stream",
     "text": [
      "C:\\Users\\Nuc\\miniconda3\\envs\\tensorflow\\lib\\site-packages\\ipykernel_launcher.py:12: DeprecationWarning: elementwise comparison failed; this will raise an error in the future.\n",
      "  if sys.path[0] == '':\n"
     ]
    },
    {
     "name": "stdout",
     "output_type": "stream",
     "text": [
      "Collecting Samples Complete\n"
     ]
    }
   ],
   "source": [
    "# carrega HAAR face classifier\n",
    "face_classifier = cv2.CascadeClassifier('.\\\\haarcascade_frontalface_default.xml')\n",
    "\n",
    "def face_extractor(window):\n",
    "  \n",
    "    faces = face_classifier.detectMultiScale(window, 1.3, 5) \n",
    "    # parametro 1: Quadro\n",
    "    # parametro 2: valores proximos de 1 (1.05 = passo pequeno de varredura) sensibilizam capturas de faces no quadro com diferente zoom e o processamento é mais lentos \n",
    "    # parametro 3: multiplas detecções. Valores altos, baixo numero de multiplas detecções com maior acertividade\n",
    "    if faces == ():\n",
    "        return None\n",
    "    \n",
    "    # Recorta todas as faces encontradas no quadro\n",
    "    for (x,y,w,h) in faces: # Estamos assumindo a premissa que existe apenas uma face por vez para captura, caso seja detectada mais de uma ele pega a ultima do ndarray faces\n",
    "        x=x-10 # posição em x com padding externo de 10 px a face detectada\n",
    "        y=y-10 # posição em y com padding externo  de 10 px a face detectada\n",
    "        cropped_face = window[y:y+h+50, x:x+w+50] # corte considerando 40 px após limiar de detecção em y e x\n",
    "\n",
    "    return cropped_face\n",
    "\n",
    "cap = cv2.VideoCapture(0) # inicializa captura da primeira camera (0)  detctada\n",
    "count = 0\n",
    "\n",
    "# Coleta 100 fotos\n",
    "while True:\n",
    "\n",
    "    ret, window = cap.read() # captura quadro a quadro\n",
    "    if face_extractor(window) is not None:\n",
    "        count += 1\n",
    "        face = cv2.resize(face_extractor(window), (400, 400))# formata foto para tamanho 400 x 400\n",
    "\n",
    "        \n",
    "        file_name_path = '.\\\\Images\\\\' + str(count) + '.jpg' # define nome e caminho da foto\n",
    "        cv2.imwrite(file_name_path, face) # salva a foto no path especificado\n",
    "\n",
    "        cv2.putText(face, str(count), (50, 50), cv2.FONT_HERSHEY_COMPLEX, 1, (0,255,0), 2) # exibe numero da foto na tela\n",
    "        cv2.imshow('Face Cropper', face) # exibe \n",
    "        \n",
    "    else:\n",
    "        print(\"Face not found\")\n",
    "        pass\n",
    "\n",
    "    if cv2.waitKey(1) == 27 or count == 100: #27 = 'esc'\n",
    "        break\n",
    "        \n",
    "cap.release()\n",
    "cv2.destroyAllWindows()      \n",
    "print(\"Collecting Samples Complete\")"
   ]
  },
  {
   "cell_type": "code",
   "execution_count": null,
   "metadata": {},
   "outputs": [],
   "source": []
  },
  {
   "cell_type": "code",
   "execution_count": null,
   "metadata": {},
   "outputs": [],
   "source": []
  }
 ],
 "metadata": {
  "kernelspec": {
   "display_name": "Python 3",
   "language": "python",
   "name": "python3"
  },
  "language_info": {
   "codemirror_mode": {
    "name": "ipython",
    "version": 3
   },
   "file_extension": ".py",
   "mimetype": "text/x-python",
   "name": "python",
   "nbconvert_exporter": "python",
   "pygments_lexer": "ipython3",
   "version": "3.7.9"
  }
 },
 "nbformat": 4,
 "nbformat_minor": 4
}
