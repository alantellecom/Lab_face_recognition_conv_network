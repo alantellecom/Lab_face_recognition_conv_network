{
 "cells": [
  {
   "cell_type": "code",
   "execution_count": 23,
   "id": "varying-worthy",
   "metadata": {},
   "outputs": [
    {
     "name": "stdout",
     "output_type": "stream",
     "text": [
      "Tensor Flow Version: 2.1.0\n",
      "Keras Version: 2.2.4-tf\n"
     ]
    }
   ],
   "source": [
    "import sys\n",
    "import tensorflow as tf\n",
    "from tensorflow.keras.preprocessing.image import ImageDataGenerator\n",
    "import numpy as np\n",
    "import matplotlib.pyplot as plt\n",
    "\n",
    "print(f\"Tensor Flow Version: {tf.__version__}\")\n",
    "print(f\"Keras Version: {tensorflow.keras.__version__}\")"
   ]
  },
  {
   "cell_type": "code",
   "execution_count": 24,
   "id": "engaged-courtesy",
   "metadata": {},
   "outputs": [
    {
     "name": "stdout",
     "output_type": "stream",
     "text": [
      "Found 160 images belonging to 2 classes.\n",
      "Found 40 images belonging to 2 classes.\n"
     ]
    }
   ],
   "source": [
    "# re-size all the images to this\n",
    "IMAGE_SIZE = [224, 224]\n",
    "\n",
    "train_path = '.\\\\Images\\\\Train'\n",
    "test_path = '.\\\\Images\\\\Test'\n",
    "\n",
    "\n",
    "train_datagen = ImageDataGenerator(rescale = 1./255)\n",
    "                                  # shear_range = 0.2,\n",
    "                                  # zoom_range = 0.2,\n",
    "                                  # horizontal_flip = True)\n",
    "\n",
    "test_datagen = ImageDataGenerator(rescale = 1./255)\n",
    "\n",
    "training_set = train_datagen.flow_from_directory(train_path,\n",
    "                                                 target_size = (224, 224),\n",
    "                                                 batch_size = 20,\n",
    "                                                 class_mode = 'binary')\n",
    "\n",
    "test_set = test_datagen.flow_from_directory(test_path,\n",
    "                                            target_size = (224, 224),\n",
    "                                            batch_size = 20,\n",
    "                                            class_mode = 'binary')\n"
   ]
  },
  {
   "cell_type": "code",
   "execution_count": 25,
   "id": "textile-major",
   "metadata": {},
   "outputs": [
    {
     "data": {
      "text/plain": [
       "{'Alan': 0, 'Tifani': 1}"
      ]
     },
     "execution_count": 25,
     "metadata": {},
     "output_type": "execute_result"
    }
   ],
   "source": [
    "training_set.class_indices"
   ]
  },
  {
   "cell_type": "code",
   "execution_count": 20,
   "id": "broke-construction",
   "metadata": {},
   "outputs": [],
   "source": [
    "model = tf.keras.models.Sequential()\n",
    "model.add(tf.keras.layers.Conv2D(32,(3,3), activation='relu', input_shape=(224,224,3)))\n",
    "model.add(tf.keras.layers.MaxPool2D((2,2)))\n",
    "model.add(tf.keras.layers.Conv2D(64,(3,3),activation='relu'))\n",
    "model.add(tf.keras.layers.MaxPool2D((2,2)))\n",
    "model.add(tf.keras.layers.Flatten())\n",
    "#model.add(tf.keras.Input(shape=(24*24*3,)))\n",
    "model.add(tf.keras.layers.Dense(units=128, activation='relu'))\n",
    "model.add(tf.keras.layers.Dense(units=1, activation='sigmoid'))\n",
    "\n",
    "model.compile(optimizer='adam', loss='binary_crossentropy', metrics=['acc'])"
   ]
  },
  {
   "cell_type": "code",
   "execution_count": 21,
   "id": "dried-question",
   "metadata": {},
   "outputs": [
    {
     "name": "stdout",
     "output_type": "stream",
     "text": [
      "WARNING:tensorflow:sample_weight modes were coerced from\n",
      "  ...\n",
      "    to  \n",
      "  ['...']\n",
      "WARNING:tensorflow:sample_weight modes were coerced from\n",
      "  ...\n",
      "    to  \n",
      "  ['...']\n",
      "Train for 4 steps, validate for 1 steps\n",
      "Epoch 1/5\n",
      "4/4 [==============================] - 6s 2s/step - loss: 1.7208 - acc: 0.7125 - val_loss: 3.5315 - val_acc: 0.4500\n",
      "Epoch 2/5\n",
      "4/4 [==============================] - 5s 1s/step - loss: 1.0913 - acc: 0.8625 - val_loss: 0.0156 - val_acc: 1.0000\n",
      "Epoch 3/5\n",
      "4/4 [==============================] - 5s 1s/step - loss: 0.1580 - acc: 0.9375 - val_loss: 0.0026 - val_acc: 1.0000\n",
      "Epoch 4/5\n",
      "4/4 [==============================] - 5s 1s/step - loss: 0.0364 - acc: 1.0000 - val_loss: 4.3921e-04 - val_acc: 1.0000\n",
      "Epoch 5/5\n",
      "4/4 [==============================] - 5s 1s/step - loss: 0.0612 - acc: 0.9875 - val_loss: 2.3529e-04 - val_acc: 1.0000\n"
     ]
    }
   ],
   "source": [
    "history = model.fit_generator(training_set, steps_per_epoch = 4, epochs=5, validation_data=test_set , validation_steps=1)\n",
    "# Training - 80 sample no total. train_datagem com 20 samples por batch então steps_per_epoch = 4 (20*4=80). \n",
    "# Test - 20 sample no total. test_datagen com 20 samples por batch (todo dataset de test), então validation_steps por epoch =1\n"
   ]
  },
  {
   "cell_type": "code",
   "execution_count": 22,
   "id": "logical-episode",
   "metadata": {},
   "outputs": [],
   "source": [
    "model.save('facefeatures_new_model.h5') # salva arquivo com modelo"
   ]
  }
 ],
 "metadata": {
  "kernelspec": {
   "display_name": "Python 3.7 (tensorflow)",
   "language": "python",
   "name": "tensorflow"
  },
  "language_info": {
   "codemirror_mode": {
    "name": "ipython",
    "version": 3
   },
   "file_extension": ".py",
   "mimetype": "text/x-python",
   "name": "python",
   "nbconvert_exporter": "python",
   "pygments_lexer": "ipython3",
   "version": "3.7.9"
  }
 },
 "nbformat": 4,
 "nbformat_minor": 5
}
